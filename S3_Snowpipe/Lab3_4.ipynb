{
 "cells": [
  {
   "cell_type": "code",
   "execution_count": 1,
   "id": "ec4cc9e5-c202-4697-8459-e29785018faf",
   "metadata": {},
   "outputs": [],
   "source": [
    "import sys\n",
    "!pip install awswrangler -q"
   ]
  },
  {
   "cell_type": "code",
   "execution_count": 2,
   "id": "d0a1bbd8-8e29-4847-ad00-78efd659e68d",
   "metadata": {},
   "outputs": [
    {
     "data": {
      "text/plain": [
       "True"
      ]
     },
     "execution_count": 2,
     "metadata": {},
     "output_type": "execute_result"
    }
   ],
   "source": [
    "from dotenv import load_dotenv\n",
    "load_dotenv()"
   ]
  },
  {
   "cell_type": "code",
   "execution_count": 3,
   "id": "ae9a5b2f-4414-4a40-a922-dcecf9cbbbdc",
   "metadata": {},
   "outputs": [],
   "source": [
    "import awswrangler as wr"
   ]
  },
  {
   "cell_type": "code",
   "execution_count": 4,
   "id": "90fbb543-3257-456c-a2f1-9b9600741411",
   "metadata": {},
   "outputs": [
    {
     "data": {
      "text/html": [
       "<div>\n",
       "<style scoped>\n",
       "    .dataframe tbody tr th:only-of-type {\n",
       "        vertical-align: middle;\n",
       "    }\n",
       "\n",
       "    .dataframe tbody tr th {\n",
       "        vertical-align: top;\n",
       "    }\n",
       "\n",
       "    .dataframe thead th {\n",
       "        text-align: right;\n",
       "    }\n",
       "</style>\n",
       "<table border=\"1\" class=\"dataframe\">\n",
       "  <thead>\n",
       "    <tr style=\"text-align: right;\">\n",
       "      <th></th>\n",
       "      <th>Date</th>\n",
       "      <th>Open</th>\n",
       "      <th>High</th>\n",
       "      <th>Low</th>\n",
       "      <th>Close</th>\n",
       "      <th>Volume</th>\n",
       "    </tr>\n",
       "  </thead>\n",
       "  <tbody>\n",
       "    <tr>\n",
       "      <th>0</th>\n",
       "      <td>1/2/2025 16:00:00</td>\n",
       "      <td>191.49</td>\n",
       "      <td>193.20</td>\n",
       "      <td>188.71</td>\n",
       "      <td>190.63</td>\n",
       "      <td>17545162</td>\n",
       "    </tr>\n",
       "    <tr>\n",
       "      <th>1</th>\n",
       "      <td>1/3/2025 16:00:00</td>\n",
       "      <td>192.73</td>\n",
       "      <td>194.50</td>\n",
       "      <td>191.35</td>\n",
       "      <td>193.13</td>\n",
       "      <td>12874957</td>\n",
       "    </tr>\n",
       "    <tr>\n",
       "      <th>2</th>\n",
       "      <td>1/6/2025 16:00:00</td>\n",
       "      <td>195.15</td>\n",
       "      <td>199.56</td>\n",
       "      <td>195.06</td>\n",
       "      <td>197.96</td>\n",
       "      <td>19483323</td>\n",
       "    </tr>\n",
       "    <tr>\n",
       "      <th>3</th>\n",
       "      <td>1/7/2025 16:00:00</td>\n",
       "      <td>198.27</td>\n",
       "      <td>202.14</td>\n",
       "      <td>195.94</td>\n",
       "      <td>196.71</td>\n",
       "      <td>16966760</td>\n",
       "    </tr>\n",
       "    <tr>\n",
       "      <th>4</th>\n",
       "      <td>1/8/2025 16:00:00</td>\n",
       "      <td>193.95</td>\n",
       "      <td>197.64</td>\n",
       "      <td>193.75</td>\n",
       "      <td>195.39</td>\n",
       "      <td>14335341</td>\n",
       "    </tr>\n",
       "  </tbody>\n",
       "</table>\n",
       "</div>"
      ],
      "text/plain": [
       "                Date    Open    High     Low   Close    Volume\n",
       "0  1/2/2025 16:00:00  191.49  193.20  188.71  190.63  17545162\n",
       "1  1/3/2025 16:00:00  192.73  194.50  191.35  193.13  12874957\n",
       "2  1/6/2025 16:00:00  195.15  199.56  195.06  197.96  19483323\n",
       "3  1/7/2025 16:00:00  198.27  202.14  195.94  196.71  16966760\n",
       "4  1/8/2025 16:00:00  193.95  197.64  193.75  195.39  14335341"
      ]
     },
     "execution_count": 4,
     "metadata": {},
     "output_type": "execute_result"
    }
   ],
   "source": [
    "\n",
    "# test if you can read from a private bucket\n",
    "df = wr.s3.read_csv('s3://techcatalyst-raw/stocks/GOOG.csv')\n",
    "df.head()"
   ]
  },
  {
   "cell_type": "code",
   "execution_count": 5,
   "id": "fed74405-c1c2-4548-894b-aa8187935e0d",
   "metadata": {},
   "outputs": [
    {
     "name": "stdout",
     "output_type": "stream",
     "text": [
      "<class 'pandas.core.frame.DataFrame'>\n",
      "RangeIndex: 140 entries, 0 to 139\n",
      "Data columns (total 6 columns):\n",
      " #   Column  Non-Null Count  Dtype  \n",
      "---  ------  --------------  -----  \n",
      " 0   Date    140 non-null    object \n",
      " 1   Open    140 non-null    float64\n",
      " 2   High    140 non-null    float64\n",
      " 3   Low     140 non-null    float64\n",
      " 4   Close   140 non-null    float64\n",
      " 5   Volume  140 non-null    int64  \n",
      "dtypes: float64(4), int64(1), object(1)\n",
      "memory usage: 6.7+ KB\n"
     ]
    }
   ],
   "source": [
    "df.info()"
   ]
  },
  {
   "cell_type": "code",
   "execution_count": 6,
   "id": "4b5be418-ed6c-458a-ac34-8b4a8e9459d8",
   "metadata": {},
   "outputs": [
    {
     "name": "stdout",
     "output_type": "stream",
     "text": [
      "               Database       Description\n",
      "0             aamnah_db                  \n",
      "1           aamnah_taxi                  \n",
      "2             alexia_db                  \n",
      "3           alexia_logs                  \n",
      "4           alexia_song                  \n",
      "5           alexia_taxi                  \n",
      "6      awswrangler_test                  \n",
      "7                ben_db                  \n",
      "8              ben_song                  \n",
      "9              ben_taxi                  \n",
      "10           blake_taxi                  \n",
      "11          blake_wr_db                  \n",
      "12    camrenn.rivera_db                  \n",
      "13  camrenn.rivera_taxi                  \n",
      "14              db_name                  \n",
      "15              default  default database\n",
      "16              emma_db                  \n",
      "17            emma_taxi                  \n",
      "18           fabiola_db                  \n",
      "19         fabiola_taxi                  \n",
      "20           jaden_taxi                  \n",
      "21        jadenastle_db                  \n",
      "22           melissa_db                  \n",
      "23         melissa_logs                  \n",
      "24        melissa_songs                  \n",
      "25         melissa_taxi                  \n",
      "26           michael_db                  \n",
      "27         michael_taxi                  \n",
      "28             miraj_db                  \n",
      "29           miraj_taxi                  \n",
      "30                my_db                  \n",
      "31           shaswat_db                  \n",
      "32         shaswat_logs                  \n",
      "33         shaswat_song                  \n",
      "34         shaswat_taxi                  \n",
      "35          suchitha_db                  \n",
      "36        suchitha_taxi                  \n",
      "37            tatwan_db                  \n",
      "38  tatwan_inclass_demo                  \n",
      "39          tatwan_taxi                  \n",
      "40     tatwan_taxi_test                  \n",
      "41             tyler_db                  \n",
      "42           tyler_taxi                  \n"
     ]
    }
   ],
   "source": [
    "databases = wr.catalog.databases()\n",
    "print(databases)"
   ]
  },
  {
   "cell_type": "code",
   "execution_count": 7,
   "id": "2d10541e-b7f7-4e6f-ad63-fe14b7f4babc",
   "metadata": {},
   "outputs": [
    {
     "ename": "AlreadyExists",
     "evalue": "Database aamnah_db already exists and <exist_ok> is set to False.",
     "output_type": "error",
     "traceback": [
      "\u001b[31m---------------------------------------------------------------------------\u001b[39m",
      "\u001b[31mAlreadyExists\u001b[39m                             Traceback (most recent call last)",
      "\u001b[36mCell\u001b[39m\u001b[36m \u001b[39m\u001b[32mIn[7]\u001b[39m\u001b[32m, line 3\u001b[39m\n\u001b[32m      1\u001b[39m name = \u001b[33m'\u001b[39m\u001b[33maamnah\u001b[39m\u001b[33m'\u001b[39m\n\u001b[32m      2\u001b[39m database_name = \u001b[33mf\u001b[39m\u001b[33m\"\u001b[39m\u001b[38;5;132;01m{\u001b[39;00mname\u001b[38;5;132;01m}\u001b[39;00m\u001b[33m_db\u001b[39m\u001b[33m\"\u001b[39m\n\u001b[32m----> \u001b[39m\u001b[32m3\u001b[39m \u001b[43mwr\u001b[49m\u001b[43m.\u001b[49m\u001b[43mcatalog\u001b[49m\u001b[43m.\u001b[49m\u001b[43mcreate_database\u001b[49m\u001b[43m(\u001b[49m\u001b[43mdatabase_name\u001b[49m\u001b[43m)\u001b[49m\n\u001b[32m      5\u001b[39m databases = wr.catalog.databases()\n\u001b[32m      6\u001b[39m \u001b[38;5;28mprint\u001b[39m(databases)\n",
      "\u001b[36mFile \u001b[39m\u001b[32m/workspaces/TechCatalyst_DE_2025/dev2/lib/python3.12/site-packages/awswrangler/_config.py:712\u001b[39m, in \u001b[36mapply_configs.<locals>.wrapper\u001b[39m\u001b[34m(*args_raw, **kwargs)\u001b[39m\n\u001b[32m    710\u001b[39m         \u001b[38;5;28;01mdel\u001b[39;00m args[name]\n\u001b[32m    711\u001b[39m         args = {**args, **keywords}\n\u001b[32m--> \u001b[39m\u001b[32m712\u001b[39m \u001b[38;5;28;01mreturn\u001b[39;00m \u001b[43mfunction\u001b[49m\u001b[43m(\u001b[49m\u001b[43m*\u001b[49m\u001b[43m*\u001b[49m\u001b[43margs\u001b[49m\u001b[43m)\u001b[49m\n",
      "\u001b[36mFile \u001b[39m\u001b[32m/workspaces/TechCatalyst_DE_2025/dev2/lib/python3.12/site-packages/awswrangler/catalog/_create.py:712\u001b[39m, in \u001b[36mcreate_database\u001b[39m\u001b[34m(name, description, catalog_id, exist_ok, database_input_args, boto3_session)\u001b[39m\n\u001b[32m    710\u001b[39m r = client_glue.get_database(**_catalog_id(catalog_id=catalog_id, Name=name))\n\u001b[32m    711\u001b[39m \u001b[38;5;28;01mif\u001b[39;00m \u001b[38;5;129;01mnot\u001b[39;00m exist_ok:\n\u001b[32m--> \u001b[39m\u001b[32m712\u001b[39m     \u001b[38;5;28;01mraise\u001b[39;00m exceptions.AlreadyExists(\u001b[33mf\u001b[39m\u001b[33m\"\u001b[39m\u001b[33mDatabase \u001b[39m\u001b[38;5;132;01m{\u001b[39;00mname\u001b[38;5;132;01m}\u001b[39;00m\u001b[33m already exists and <exist_ok> is set to False.\u001b[39m\u001b[33m\"\u001b[39m)\n\u001b[32m    713\u001b[39m \u001b[38;5;28;01mfor\u001b[39;00m k, v \u001b[38;5;129;01min\u001b[39;00m args.items():\n\u001b[32m    714\u001b[39m     \u001b[38;5;28;01mif\u001b[39;00m v != r[\u001b[33m\"\u001b[39m\u001b[33mDatabase\u001b[39m\u001b[33m\"\u001b[39m].get(k, \u001b[33m\"\u001b[39m\u001b[33m\"\u001b[39m):\n",
      "\u001b[31mAlreadyExists\u001b[39m: Database aamnah_db already exists and <exist_ok> is set to False."
     ]
    }
   ],
   "source": [
    "name = 'aamnah'\n",
    "database_name = f\"{name}_db\"\n",
    "wr.catalog.create_database(database_name)\n",
    "\n",
    "databases = wr.catalog.databases()\n",
    "print(databases)"
   ]
  },
  {
   "cell_type": "code",
   "execution_count": 8,
   "id": "d4686ed6-a697-4c4f-8d91-f1b81a81acc5",
   "metadata": {},
   "outputs": [
    {
     "data": {
      "text/html": [
       "<div>\n",
       "<style scoped>\n",
       "    .dataframe tbody tr th:only-of-type {\n",
       "        vertical-align: middle;\n",
       "    }\n",
       "\n",
       "    .dataframe tbody tr th {\n",
       "        vertical-align: top;\n",
       "    }\n",
       "\n",
       "    .dataframe thead th {\n",
       "        text-align: right;\n",
       "    }\n",
       "</style>\n",
       "<table border=\"1\" class=\"dataframe\">\n",
       "  <thead>\n",
       "    <tr style=\"text-align: right;\">\n",
       "      <th></th>\n",
       "      <th>Database</th>\n",
       "      <th>Table</th>\n",
       "      <th>Description</th>\n",
       "      <th>TableType</th>\n",
       "      <th>Columns</th>\n",
       "      <th>Partitions</th>\n",
       "    </tr>\n",
       "  </thead>\n",
       "  <tbody>\n",
       "    <tr>\n",
       "      <th>0</th>\n",
       "      <td>aamnah_db</td>\n",
       "      <td>aamnah_stock</td>\n",
       "      <td></td>\n",
       "      <td>EXTERNAL_TABLE</td>\n",
       "      <td>date, open, high, low, close, volume</td>\n",
       "      <td></td>\n",
       "    </tr>\n",
       "  </tbody>\n",
       "</table>\n",
       "</div>"
      ],
      "text/plain": [
       "    Database         Table Description       TableType  \\\n",
       "0  aamnah_db  aamnah_stock              EXTERNAL_TABLE   \n",
       "\n",
       "                                Columns Partitions  \n",
       "0  date, open, high, low, close, volume             "
      ]
     },
     "execution_count": 8,
     "metadata": {},
     "output_type": "execute_result"
    }
   ],
   "source": [
    "wr.catalog.tables(database=database_name)"
   ]
  },
  {
   "cell_type": "code",
   "execution_count": 9,
   "id": "1ab40881-ed1e-4ce2-9fd6-74d09ee8117c",
   "metadata": {},
   "outputs": [
    {
     "data": {
      "text/plain": [
       "{'paths': ['s3://techcatalyst-raw/aamnah/43f83cf675004457ae43fd5a8f9fdfeb.snappy.parquet'],\n",
       " 'partitions_values': {}}"
      ]
     },
     "execution_count": 9,
     "metadata": {},
     "output_type": "execute_result"
    }
   ],
   "source": [
    "wr.s3.to_parquet(\n",
    "    df=df, # the DataFrame you just created \n",
    "    path=f\"s3://techcatalyst-raw/{name}/\", # write to the techcatalyst-raw bucket under your folder name (or it would create a new folder if it does not exist)\n",
    "    dataset=True, \n",
    "    database='aamnah_db', # the name of the database you just created in AWS Glue \n",
    "    table='aamnah_stock', # pick a table name for example YOURNAME_STOCK\n",
    "    mode='overwrite'\n",
    "    )"
   ]
  },
  {
   "cell_type": "code",
   "execution_count": 10,
   "id": "cfa7a855-4253-4c26-aabc-cf01e4d5c016",
   "metadata": {},
   "outputs": [
    {
     "data": {
      "text/html": [
       "<div>\n",
       "<style scoped>\n",
       "    .dataframe tbody tr th:only-of-type {\n",
       "        vertical-align: middle;\n",
       "    }\n",
       "\n",
       "    .dataframe tbody tr th {\n",
       "        vertical-align: top;\n",
       "    }\n",
       "\n",
       "    .dataframe thead th {\n",
       "        text-align: right;\n",
       "    }\n",
       "</style>\n",
       "<table border=\"1\" class=\"dataframe\">\n",
       "  <thead>\n",
       "    <tr style=\"text-align: right;\">\n",
       "      <th></th>\n",
       "      <th>Database</th>\n",
       "      <th>Table</th>\n",
       "      <th>Description</th>\n",
       "      <th>TableType</th>\n",
       "      <th>Columns</th>\n",
       "      <th>Partitions</th>\n",
       "    </tr>\n",
       "  </thead>\n",
       "  <tbody>\n",
       "    <tr>\n",
       "      <th>0</th>\n",
       "      <td>aamnah_db</td>\n",
       "      <td>aamnah_stock</td>\n",
       "      <td></td>\n",
       "      <td>EXTERNAL_TABLE</td>\n",
       "      <td>date, open, high, low, close, volume</td>\n",
       "      <td></td>\n",
       "    </tr>\n",
       "  </tbody>\n",
       "</table>\n",
       "</div>"
      ],
      "text/plain": [
       "    Database         Table Description       TableType  \\\n",
       "0  aamnah_db  aamnah_stock              EXTERNAL_TABLE   \n",
       "\n",
       "                                Columns Partitions  \n",
       "0  date, open, high, low, close, volume             "
      ]
     },
     "execution_count": 10,
     "metadata": {},
     "output_type": "execute_result"
    }
   ],
   "source": [
    "wr.catalog.tables(database = database_name)"
   ]
  },
  {
   "cell_type": "code",
   "execution_count": 11,
   "id": "fab1526b-3105-46ab-a2ff-5593cda93f09",
   "metadata": {},
   "outputs": [
    {
     "data": {
      "text/html": [
       "<div>\n",
       "<style scoped>\n",
       "    .dataframe tbody tr th:only-of-type {\n",
       "        vertical-align: middle;\n",
       "    }\n",
       "\n",
       "    .dataframe tbody tr th {\n",
       "        vertical-align: top;\n",
       "    }\n",
       "\n",
       "    .dataframe thead th {\n",
       "        text-align: right;\n",
       "    }\n",
       "</style>\n",
       "<table border=\"1\" class=\"dataframe\">\n",
       "  <thead>\n",
       "    <tr style=\"text-align: right;\">\n",
       "      <th></th>\n",
       "      <th>Database</th>\n",
       "      <th>Table</th>\n",
       "      <th>Description</th>\n",
       "      <th>TableType</th>\n",
       "      <th>Columns</th>\n",
       "      <th>Partitions</th>\n",
       "    </tr>\n",
       "  </thead>\n",
       "  <tbody>\n",
       "    <tr>\n",
       "      <th>0</th>\n",
       "      <td>aamnah_db</td>\n",
       "      <td>aamnah_stock</td>\n",
       "      <td></td>\n",
       "      <td>EXTERNAL_TABLE</td>\n",
       "      <td>date, open, high, low, close, volume</td>\n",
       "      <td></td>\n",
       "    </tr>\n",
       "    <tr>\n",
       "      <th>1</th>\n",
       "      <td>alexia_db</td>\n",
       "      <td>alexia_stock</td>\n",
       "      <td>This is my stock table.</td>\n",
       "      <td>EXTERNAL_TABLE</td>\n",
       "      <td>date, open, high, low, close, volume</td>\n",
       "      <td></td>\n",
       "    </tr>\n",
       "    <tr>\n",
       "      <th>2</th>\n",
       "      <td>ben_db</td>\n",
       "      <td>ben_stock</td>\n",
       "      <td>This is my stock table.</td>\n",
       "      <td>EXTERNAL_TABLE</td>\n",
       "      <td>date, open, high, low, close, volume</td>\n",
       "      <td></td>\n",
       "    </tr>\n",
       "    <tr>\n",
       "      <th>3</th>\n",
       "      <td>blake_wr_db</td>\n",
       "      <td>blake_stock</td>\n",
       "      <td>This is my stock table.</td>\n",
       "      <td>EXTERNAL_TABLE</td>\n",
       "      <td>date, open, high, low, close, volume</td>\n",
       "      <td></td>\n",
       "    </tr>\n",
       "    <tr>\n",
       "      <th>4</th>\n",
       "      <td>camrenn.rivera_db</td>\n",
       "      <td>camrenn_stock</td>\n",
       "      <td>This is my stock table.</td>\n",
       "      <td>EXTERNAL_TABLE</td>\n",
       "      <td>date, open, high, low, close, volume</td>\n",
       "      <td></td>\n",
       "    </tr>\n",
       "    <tr>\n",
       "      <th>5</th>\n",
       "      <td>emma_db</td>\n",
       "      <td>emma_stock</td>\n",
       "      <td>This is my stock table.</td>\n",
       "      <td>EXTERNAL_TABLE</td>\n",
       "      <td>date, open, high, low, close, volume</td>\n",
       "      <td></td>\n",
       "    </tr>\n",
       "    <tr>\n",
       "      <th>6</th>\n",
       "      <td>fabiola_db</td>\n",
       "      <td>fabiola_stock</td>\n",
       "      <td>This is my stock table.</td>\n",
       "      <td>EXTERNAL_TABLE</td>\n",
       "      <td>date, open, high, low, close, volume</td>\n",
       "      <td></td>\n",
       "    </tr>\n",
       "    <tr>\n",
       "      <th>7</th>\n",
       "      <td>jadenastle_db</td>\n",
       "      <td>jaden_stock</td>\n",
       "      <td>This is my stock table.</td>\n",
       "      <td>EXTERNAL_TABLE</td>\n",
       "      <td>date, open, high, low, close, volume</td>\n",
       "      <td></td>\n",
       "    </tr>\n",
       "    <tr>\n",
       "      <th>8</th>\n",
       "      <td>melissa_db</td>\n",
       "      <td>melissa_stocks</td>\n",
       "      <td>This is my stock table.</td>\n",
       "      <td>EXTERNAL_TABLE</td>\n",
       "      <td>date, open, high, low, close, volume</td>\n",
       "      <td></td>\n",
       "    </tr>\n",
       "    <tr>\n",
       "      <th>9</th>\n",
       "      <td>michael_db</td>\n",
       "      <td>michael_stock</td>\n",
       "      <td>This is my stock table.</td>\n",
       "      <td>EXTERNAL_TABLE</td>\n",
       "      <td>date, open, high, low, close, volume</td>\n",
       "      <td></td>\n",
       "    </tr>\n",
       "    <tr>\n",
       "      <th>10</th>\n",
       "      <td>miraj_db</td>\n",
       "      <td>miraj_google_stock</td>\n",
       "      <td>This is my stock table.</td>\n",
       "      <td>EXTERNAL_TABLE</td>\n",
       "      <td>date, open, high, low, close, volume</td>\n",
       "      <td></td>\n",
       "    </tr>\n",
       "    <tr>\n",
       "      <th>11</th>\n",
       "      <td>shaswat_db</td>\n",
       "      <td>shaswat_stock</td>\n",
       "      <td>This is my stock table.</td>\n",
       "      <td>EXTERNAL_TABLE</td>\n",
       "      <td>date, open, high, low, close, volume</td>\n",
       "      <td></td>\n",
       "    </tr>\n",
       "    <tr>\n",
       "      <th>12</th>\n",
       "      <td>suchitha_db</td>\n",
       "      <td>suchitha_stock</td>\n",
       "      <td>This is my stock table.</td>\n",
       "      <td>EXTERNAL_TABLE</td>\n",
       "      <td>date, open, high, low, close, volume</td>\n",
       "      <td></td>\n",
       "    </tr>\n",
       "    <tr>\n",
       "      <th>13</th>\n",
       "      <td>tatwan_db</td>\n",
       "      <td>tatwan_stock</td>\n",
       "      <td>This is my stock table.</td>\n",
       "      <td>EXTERNAL_TABLE</td>\n",
       "      <td>date, open, high, low, close, volume</td>\n",
       "      <td></td>\n",
       "    </tr>\n",
       "    <tr>\n",
       "      <th>14</th>\n",
       "      <td>tatwan_inclass_demo</td>\n",
       "      <td>tatwan_goog_stock</td>\n",
       "      <td></td>\n",
       "      <td>EXTERNAL_TABLE</td>\n",
       "      <td>date, open, high, low, close, volume</td>\n",
       "      <td></td>\n",
       "    </tr>\n",
       "    <tr>\n",
       "      <th>15</th>\n",
       "      <td>tyler_db</td>\n",
       "      <td>tyler_stock</td>\n",
       "      <td>This is my stock table.</td>\n",
       "      <td>EXTERNAL_TABLE</td>\n",
       "      <td>date, open, high, low, close, volume</td>\n",
       "      <td></td>\n",
       "    </tr>\n",
       "  </tbody>\n",
       "</table>\n",
       "</div>"
      ],
      "text/plain": [
       "               Database               Table              Description  \\\n",
       "0             aamnah_db        aamnah_stock                            \n",
       "1             alexia_db        alexia_stock  This is my stock table.   \n",
       "2                ben_db           ben_stock  This is my stock table.   \n",
       "3           blake_wr_db         blake_stock  This is my stock table.   \n",
       "4     camrenn.rivera_db       camrenn_stock  This is my stock table.   \n",
       "5               emma_db          emma_stock  This is my stock table.   \n",
       "6            fabiola_db       fabiola_stock  This is my stock table.   \n",
       "7         jadenastle_db         jaden_stock  This is my stock table.   \n",
       "8            melissa_db      melissa_stocks  This is my stock table.   \n",
       "9            michael_db       michael_stock  This is my stock table.   \n",
       "10             miraj_db  miraj_google_stock  This is my stock table.   \n",
       "11           shaswat_db       shaswat_stock  This is my stock table.   \n",
       "12          suchitha_db      suchitha_stock  This is my stock table.   \n",
       "13            tatwan_db        tatwan_stock  This is my stock table.   \n",
       "14  tatwan_inclass_demo   tatwan_goog_stock                            \n",
       "15             tyler_db         tyler_stock  This is my stock table.   \n",
       "\n",
       "         TableType                               Columns Partitions  \n",
       "0   EXTERNAL_TABLE  date, open, high, low, close, volume             \n",
       "1   EXTERNAL_TABLE  date, open, high, low, close, volume             \n",
       "2   EXTERNAL_TABLE  date, open, high, low, close, volume             \n",
       "3   EXTERNAL_TABLE  date, open, high, low, close, volume             \n",
       "4   EXTERNAL_TABLE  date, open, high, low, close, volume             \n",
       "5   EXTERNAL_TABLE  date, open, high, low, close, volume             \n",
       "6   EXTERNAL_TABLE  date, open, high, low, close, volume             \n",
       "7   EXTERNAL_TABLE  date, open, high, low, close, volume             \n",
       "8   EXTERNAL_TABLE  date, open, high, low, close, volume             \n",
       "9   EXTERNAL_TABLE  date, open, high, low, close, volume             \n",
       "10  EXTERNAL_TABLE  date, open, high, low, close, volume             \n",
       "11  EXTERNAL_TABLE  date, open, high, low, close, volume             \n",
       "12  EXTERNAL_TABLE  date, open, high, low, close, volume             \n",
       "13  EXTERNAL_TABLE  date, open, high, low, close, volume             \n",
       "14  EXTERNAL_TABLE  date, open, high, low, close, volume             \n",
       "15  EXTERNAL_TABLE  date, open, high, low, close, volume             "
      ]
     },
     "execution_count": 11,
     "metadata": {},
     "output_type": "execute_result"
    }
   ],
   "source": [
    "wr.catalog.tables(name_contains=\"stock\")"
   ]
  },
  {
   "cell_type": "code",
   "execution_count": 12,
   "id": "025ef252-7e16-4438-8eed-672125b23800",
   "metadata": {},
   "outputs": [
    {
     "data": {
      "text/html": [
       "<div>\n",
       "<style scoped>\n",
       "    .dataframe tbody tr th:only-of-type {\n",
       "        vertical-align: middle;\n",
       "    }\n",
       "\n",
       "    .dataframe tbody tr th {\n",
       "        vertical-align: top;\n",
       "    }\n",
       "\n",
       "    .dataframe thead th {\n",
       "        text-align: right;\n",
       "    }\n",
       "</style>\n",
       "<table border=\"1\" class=\"dataframe\">\n",
       "  <thead>\n",
       "    <tr style=\"text-align: right;\">\n",
       "      <th></th>\n",
       "      <th>date</th>\n",
       "      <th>open</th>\n",
       "      <th>high</th>\n",
       "      <th>low</th>\n",
       "      <th>close</th>\n",
       "      <th>volume</th>\n",
       "    </tr>\n",
       "  </thead>\n",
       "  <tbody>\n",
       "    <tr>\n",
       "      <th>0</th>\n",
       "      <td>1/2/2025 16:00:00</td>\n",
       "      <td>191.49</td>\n",
       "      <td>193.20</td>\n",
       "      <td>188.71</td>\n",
       "      <td>190.63</td>\n",
       "      <td>17545162</td>\n",
       "    </tr>\n",
       "    <tr>\n",
       "      <th>1</th>\n",
       "      <td>1/3/2025 16:00:00</td>\n",
       "      <td>192.73</td>\n",
       "      <td>194.50</td>\n",
       "      <td>191.35</td>\n",
       "      <td>193.13</td>\n",
       "      <td>12874957</td>\n",
       "    </tr>\n",
       "    <tr>\n",
       "      <th>2</th>\n",
       "      <td>1/6/2025 16:00:00</td>\n",
       "      <td>195.15</td>\n",
       "      <td>199.56</td>\n",
       "      <td>195.06</td>\n",
       "      <td>197.96</td>\n",
       "      <td>19483323</td>\n",
       "    </tr>\n",
       "    <tr>\n",
       "      <th>3</th>\n",
       "      <td>1/7/2025 16:00:00</td>\n",
       "      <td>198.27</td>\n",
       "      <td>202.14</td>\n",
       "      <td>195.94</td>\n",
       "      <td>196.71</td>\n",
       "      <td>16966760</td>\n",
       "    </tr>\n",
       "    <tr>\n",
       "      <th>4</th>\n",
       "      <td>1/8/2025 16:00:00</td>\n",
       "      <td>193.95</td>\n",
       "      <td>197.64</td>\n",
       "      <td>193.75</td>\n",
       "      <td>195.39</td>\n",
       "      <td>14335341</td>\n",
       "    </tr>\n",
       "  </tbody>\n",
       "</table>\n",
       "</div>"
      ],
      "text/plain": [
       "                date    open    high     low   close    volume\n",
       "0  1/2/2025 16:00:00  191.49  193.20  188.71  190.63  17545162\n",
       "1  1/3/2025 16:00:00  192.73  194.50  191.35  193.13  12874957\n",
       "2  1/6/2025 16:00:00  195.15  199.56  195.06  197.96  19483323\n",
       "3  1/7/2025 16:00:00  198.27  202.14  195.94  196.71  16966760\n",
       "4  1/8/2025 16:00:00  193.95  197.64  193.75  195.39  14335341"
      ]
     },
     "execution_count": 12,
     "metadata": {},
     "output_type": "execute_result"
    }
   ],
   "source": [
    "df = wr.s3.read_parquet_table(database='aamnah_db',table='aamnah_stock')\n",
    "# Display the DataFrame's first few rows\n",
    "df.head()"
   ]
  },
  {
   "cell_type": "code",
   "execution_count": 13,
   "id": "f9873f19-a52e-4f31-b5f6-4ccc9bd393da",
   "metadata": {},
   "outputs": [
    {
     "data": {
      "text/plain": [
       "{'Name': 'aamnah_stock',\n",
       " 'DatabaseName': 'aamnah_db',\n",
       " 'CreateTime': datetime.datetime(2025, 8, 4, 20, 18, 25, tzinfo=tzlocal()),\n",
       " 'UpdateTime': datetime.datetime(2025, 8, 6, 13, 32, 59, tzinfo=tzlocal()),\n",
       " 'Retention': 0,\n",
       " 'StorageDescriptor': {'Columns': [{'Name': 'date', 'Type': 'string'},\n",
       "   {'Name': 'open', 'Type': 'double'},\n",
       "   {'Name': 'high', 'Type': 'double'},\n",
       "   {'Name': 'low', 'Type': 'double'},\n",
       "   {'Name': 'close', 'Type': 'double'},\n",
       "   {'Name': 'volume', 'Type': 'bigint'}],\n",
       "  'Location': 's3://techcatalyst-raw/aamnah/',\n",
       "  'InputFormat': 'org.apache.hadoop.hive.ql.io.parquet.MapredParquetInputFormat',\n",
       "  'OutputFormat': 'org.apache.hadoop.hive.ql.io.parquet.MapredParquetOutputFormat',\n",
       "  'Compressed': True,\n",
       "  'NumberOfBuckets': -1,\n",
       "  'SerdeInfo': {'SerializationLibrary': 'org.apache.hadoop.hive.ql.io.parquet.serde.ParquetHiveSerDe',\n",
       "   'Parameters': {'serialization.format': '1'}},\n",
       "  'BucketColumns': [],\n",
       "  'SortColumns': [],\n",
       "  'Parameters': {'CrawlerSchemaDeserializerVersion': '1.0',\n",
       "   'compressionType': 'snappy',\n",
       "   'classification': 'parquet',\n",
       "   'typeOfData': 'file'},\n",
       "  'StoredAsSubDirectories': False},\n",
       " 'PartitionKeys': [],\n",
       " 'TableType': 'EXTERNAL_TABLE',\n",
       " 'Parameters': {'compressionType': 'snappy',\n",
       "  'classification': 'parquet',\n",
       "  'projection.enabled': 'false',\n",
       "  'typeOfData': 'file'},\n",
       " 'CreatedBy': 'arn:aws:iam::535146832369:user/Aamnah.Malik',\n",
       " 'IsRegisteredWithLakeFormation': False,\n",
       " 'CatalogId': '535146832369',\n",
       " 'VersionId': '13',\n",
       " 'IsMultiDialectView': False}"
      ]
     },
     "execution_count": 13,
     "metadata": {},
     "output_type": "execute_result"
    }
   ],
   "source": [
    "table_details = wr.catalog.get_tables(database=database_name)\n",
    "next(table_details)"
   ]
  },
  {
   "cell_type": "code",
   "execution_count": 14,
   "id": "fb5acaec-ef94-4b23-a1dd-e3b5695753cf",
   "metadata": {},
   "outputs": [
    {
     "data": {
      "text/plain": [
       "{'paths': ['s3://techcatalyst-raw/aamnah/1b7ae79248e7430692eff96187474936.snappy.parquet'],\n",
       " 'partitions_values': {}}"
      ]
     },
     "execution_count": 14,
     "metadata": {},
     "output_type": "execute_result"
    }
   ],
   "source": [
    "# Example adding additional metadata information \n",
    "\n",
    "desc = \"This is my stock table.\"\n",
    "param = {\"source\": \"Google\", \"class\": \"stock\"}\n",
    "comments = {\n",
    "    \"Date\": \"Trading Date\",\n",
    "    \"Open\": \"Opening Price\",\n",
    "    \"Close\": \"Closing Price\"\n",
    "}\n",
    "\n",
    "wr.s3.to_parquet(\n",
    "    df=df,\n",
    "    path='s3://techcatalyst-raw/aamnah', # CHANGE THIS TO USE YOUR NAME for example s3://TECHCATALYST/TATWAN\n",
    "    dataset=True,\n",
    "    database=database_name,\n",
    "    table='aamnah_stock',\n",
    "    mode='overwrite',\n",
    "    glue_table_settings=wr.typing.GlueTableSettings(description=desc,  # here we are passing some metadata\n",
    "                                                    parameters=param, \n",
    "                                                    columns_comments=comments),\n",
    "    )"
   ]
  },
  {
   "cell_type": "code",
   "execution_count": 15,
   "id": "01e72496-cec5-4094-b870-5dcd5648b77b",
   "metadata": {},
   "outputs": [
    {
     "data": {
      "text/html": [
       "<div>\n",
       "<style scoped>\n",
       "    .dataframe tbody tr th:only-of-type {\n",
       "        vertical-align: middle;\n",
       "    }\n",
       "\n",
       "    .dataframe tbody tr th {\n",
       "        vertical-align: top;\n",
       "    }\n",
       "\n",
       "    .dataframe thead th {\n",
       "        text-align: right;\n",
       "    }\n",
       "</style>\n",
       "<table border=\"1\" class=\"dataframe\">\n",
       "  <thead>\n",
       "    <tr style=\"text-align: right;\">\n",
       "      <th></th>\n",
       "      <th>Column Name</th>\n",
       "      <th>Type</th>\n",
       "      <th>Partition</th>\n",
       "      <th>Comment</th>\n",
       "    </tr>\n",
       "  </thead>\n",
       "  <tbody>\n",
       "    <tr>\n",
       "      <th>0</th>\n",
       "      <td>date</td>\n",
       "      <td>string</td>\n",
       "      <td>False</td>\n",
       "      <td>Trading Date</td>\n",
       "    </tr>\n",
       "    <tr>\n",
       "      <th>1</th>\n",
       "      <td>open</td>\n",
       "      <td>double</td>\n",
       "      <td>False</td>\n",
       "      <td>Opening Price</td>\n",
       "    </tr>\n",
       "    <tr>\n",
       "      <th>2</th>\n",
       "      <td>high</td>\n",
       "      <td>double</td>\n",
       "      <td>False</td>\n",
       "      <td></td>\n",
       "    </tr>\n",
       "    <tr>\n",
       "      <th>3</th>\n",
       "      <td>low</td>\n",
       "      <td>double</td>\n",
       "      <td>False</td>\n",
       "      <td></td>\n",
       "    </tr>\n",
       "    <tr>\n",
       "      <th>4</th>\n",
       "      <td>close</td>\n",
       "      <td>double</td>\n",
       "      <td>False</td>\n",
       "      <td>Closing Price</td>\n",
       "    </tr>\n",
       "    <tr>\n",
       "      <th>5</th>\n",
       "      <td>volume</td>\n",
       "      <td>bigint</td>\n",
       "      <td>False</td>\n",
       "      <td></td>\n",
       "    </tr>\n",
       "  </tbody>\n",
       "</table>\n",
       "</div>"
      ],
      "text/plain": [
       "  Column Name    Type  Partition        Comment\n",
       "0        date  string      False   Trading Date\n",
       "1        open  double      False  Opening Price\n",
       "2        high  double      False               \n",
       "3         low  double      False               \n",
       "4       close  double      False  Closing Price\n",
       "5      volume  bigint      False               "
      ]
     },
     "execution_count": 15,
     "metadata": {},
     "output_type": "execute_result"
    }
   ],
   "source": [
    "wr.catalog.table(database=database_name, table='aamnah_stock')"
   ]
  },
  {
   "cell_type": "code",
   "execution_count": 16,
   "id": "2f9d0a3e-de89-4feb-9b6f-be7af2821f34",
   "metadata": {},
   "outputs": [
    {
     "data": {
      "text/plain": [
       "['s3://techcatalyst-raw/stage/yellow_tripdata.csv',\n",
       " 's3://techcatalyst-raw/stage/yellow_tripdata.json',\n",
       " 's3://techcatalyst-raw/stage/yellow_tripdata.parquet']"
      ]
     },
     "execution_count": 16,
     "metadata": {},
     "output_type": "execute_result"
    }
   ],
   "source": [
    "wr.s3.list_objects('s3://techcatalyst-raw/stage/')"
   ]
  },
  {
   "cell_type": "code",
   "execution_count": 17,
   "id": "6858151e-92f9-4cd8-a41c-7564c67e0820",
   "metadata": {},
   "outputs": [],
   "source": [
    "wr.s3.download(path='s3://techcatalyst-raw/stocks/GOOG.csv', \n",
    "               local_file='./new_file.csv')"
   ]
  },
  {
   "cell_type": "code",
   "execution_count": 18,
   "id": "2e60ce95-9580-4d38-93d0-3fcf16bd82f2",
   "metadata": {},
   "outputs": [],
   "source": [
    "your_name = 'aamnah'\n",
    "file_name = 'GOOG_NEW.csv'\n",
    "wr.s3.upload(local_file='new_file.csv',path= f's3://techcatalyst-raw/{your_name}/uploads/{file_name}')"
   ]
  },
  {
   "cell_type": "code",
   "execution_count": 19,
   "id": "9894b4d3-3b9e-411d-b57f-f92d8438f29d",
   "metadata": {},
   "outputs": [
    {
     "data": {
      "text/plain": [
       "['s3://techcatalyst-raw/aamnah/uploads/GOOG_NEW.csv']"
      ]
     },
     "execution_count": 19,
     "metadata": {},
     "output_type": "execute_result"
    }
   ],
   "source": [
    "wr.s3.list_objects(f's3://techcatalyst-raw/{your_name}/uploads/')"
   ]
  },
  {
   "cell_type": "code",
   "execution_count": 20,
   "id": "dd943daa-3fd9-463d-a42a-c3eb2350fe33",
   "metadata": {},
   "outputs": [],
   "source": [
    "# A name for the new Glue Database it should be YOURNAME_TAXI\n",
    "db_name =  'AAMNAH_TAXI'\n",
    "\n",
    "# A name for the table it should be YOURNAME_TRIPDATA\n",
    "table_name =  'AAMNAH_TRIPDATA'\n",
    "\n",
    "# the path_direcoty to should point to the bucket (main directory)\n",
    "s3_path_directory = 's3://techcatalyst-raw/'\n",
    "\n",
    "# The path_file should be the full path to the actual file\n",
    "s3_path_file = 's3://techcatalyst-raw/taxi_data'\n"
   ]
  },
  {
   "cell_type": "code",
   "execution_count": 21,
   "id": "d8d3784a-7cc5-4794-afb1-6db44b6642e4",
   "metadata": {},
   "outputs": [
    {
     "name": "stdout",
     "output_type": "stream",
     "text": [
      "Successfully read schema from Parquet file.\n"
     ]
    }
   ],
   "source": [
    "# uncomment below if you ran into issues to clean things up and rerun the cell\n",
    "wr.catalog.delete_table_if_exists(database=db_name, table=table_name) \n",
    "\n",
    "# Create the new Glue database first based on the db_name you created\n",
    "# wr.catalog.create_database(db_name)\n",
    "wr.catalog.create_database(name='AAMNAH_TAXI', exist_ok=True)\n",
    "                           \n",
    "    \n",
    "# This function can extract the schema from our file and returns a tuple: (schema, partitions). We only need the schema. \n",
    "columns_types, partitions_types = wr.s3.read_parquet_metadata(path=s3_path_file)\n",
    "print(\"Successfully read schema from Parquet file.\")"
   ]
  },
  {
   "cell_type": "code",
   "execution_count": 22,
   "id": "b52e2154-33f6-479b-9b52-68b3be83f924",
   "metadata": {},
   "outputs": [
    {
     "name": "stdout",
     "output_type": "stream",
     "text": [
      "Table 'AAMNAH_TRIPDATA' created successfully in database 'AAMNAH_TAXI'.\n"
     ]
    }
   ],
   "source": [
    "\n",
    "wr.catalog.create_parquet_table(\n",
    "    database=db_name, # pass the database name\n",
    "    table=table_name, # pass the table name\n",
    "    path=s3_path_directory, # use the directoy here \n",
    "    columns_types=columns_types,  # Pass the schema here\n",
    "    partitions_types=partitions_types\n",
    ")\n",
    "print(f\"Table '{table_name}' created successfully in database '{db_name}'.\")"
   ]
  },
  {
   "cell_type": "code",
   "execution_count": 24,
   "id": "45764ac2-8fab-412d-91da-bf6534cb91b1",
   "metadata": {},
   "outputs": [],
   "source": [
    "your_name = 'aamnah'\n",
    "file_name = 'test.csv'\n",
    "wr.s3.upload(local_file='test.csv',path= f's3://techcatalyst-raw/{your_name}/{file_name}')"
   ]
  }
 ],
 "metadata": {
  "kernelspec": {
   "display_name": "dev2",
   "language": "python",
   "name": "dev2"
  },
  "language_info": {
   "codemirror_mode": {
    "name": "ipython",
    "version": 3
   },
   "file_extension": ".py",
   "mimetype": "text/x-python",
   "name": "python",
   "nbconvert_exporter": "python",
   "pygments_lexer": "ipython3",
   "version": "3.12.3"
  }
 },
 "nbformat": 4,
 "nbformat_minor": 5
}
