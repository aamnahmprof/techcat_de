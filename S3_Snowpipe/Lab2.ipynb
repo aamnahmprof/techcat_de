{
 "cells": [
  {
   "cell_type": "code",
   "execution_count": 1,
   "id": "8fc3a369",
   "metadata": {},
   "outputs": [
    {
     "name": "stdout",
     "output_type": "stream",
     "text": [
      "Requirement already satisfied: boto3 in /home/codespace/.python/current/lib/python3.12/site-packages (1.40.1)\n",
      "Requirement already satisfied: python-dotenv in /home/codespace/.python/current/lib/python3.12/site-packages (1.1.1)\n",
      "Requirement already satisfied: botocore<1.41.0,>=1.40.1 in /home/codespace/.python/current/lib/python3.12/site-packages (from boto3) (1.40.1)\n",
      "Requirement already satisfied: jmespath<2.0.0,>=0.7.1 in /home/codespace/.python/current/lib/python3.12/site-packages (from boto3) (1.0.1)\n",
      "Requirement already satisfied: s3transfer<0.14.0,>=0.13.0 in /home/codespace/.python/current/lib/python3.12/site-packages (from boto3) (0.13.1)\n",
      "Requirement already satisfied: python-dateutil<3.0.0,>=2.1 in /home/codespace/.local/lib/python3.12/site-packages (from botocore<1.41.0,>=1.40.1->boto3) (2.9.0.post0)\n",
      "Requirement already satisfied: urllib3!=2.2.0,<3,>=1.25.4 in /home/codespace/.local/lib/python3.12/site-packages (from botocore<1.41.0,>=1.40.1->boto3) (2.5.0)\n",
      "Requirement already satisfied: six>=1.5 in /home/codespace/.local/lib/python3.12/site-packages (from python-dateutil<3.0.0,>=2.1->botocore<1.41.0,>=1.40.1->boto3) (1.17.0)\n"
     ]
    }
   ],
   "source": [
    "!pip install boto3 python-dotenv "
   ]
  },
  {
   "cell_type": "code",
   "execution_count": 2,
   "id": "61fcfbec",
   "metadata": {},
   "outputs": [
    {
     "data": {
      "text/plain": [
       "True"
      ]
     },
     "execution_count": 2,
     "metadata": {},
     "output_type": "execute_result"
    }
   ],
   "source": [
    "from dotenv import load_dotenv\n",
    "load_dotenv()"
   ]
  },
  {
   "cell_type": "code",
   "execution_count": 3,
   "id": "0cea146d-edac-4526-9843-7beeba4e8508",
   "metadata": {},
   "outputs": [],
   "source": [
    "import boto3\n",
    "import os\n",
    "s3_client = boto3.client('s3')"
   ]
  },
  {
   "cell_type": "code",
   "execution_count": 4,
   "id": "4c894d41-166e-464e-9847-c39a941a2bea",
   "metadata": {},
   "outputs": [
    {
     "name": "stdout",
     "output_type": "stream",
     "text": [
      "capstone-techcatalyst-conformed\n",
      "capstone-techcatalyst-raw\n",
      "capstone-techcatalyst-transformed\n",
      "techcatalyst-public\n",
      "techcatalyst-raw\n",
      "techcatalyst-transformed\n"
     ]
    }
   ],
   "source": [
    "# list bucket names\n",
    "buckets = s3_client.list_buckets()\n",
    "for bucket in buckets['Buckets']:\n",
    "    if 'techcatalyst' in bucket['Name']:\n",
    "        print(bucket['Name'])"
   ]
  },
  {
   "cell_type": "code",
   "execution_count": 6,
   "id": "3762e529-9aaa-4bbc-938a-94589317c04b",
   "metadata": {},
   "outputs": [
    {
     "name": "stdout",
     "output_type": "stream",
     "text": [
      "BLAKE/test_export.parquet\n",
      "BLAKE/upload_file_method_GOOG.csv\n",
      "BLAKE/upload_fileobj_method.txt\n",
      "BLAKE_wr/2cbc317b36f04087a5760fe495f9c4e1.snappy.parquet\n",
      "Ben/Million_Songs/\n",
      "Ben/bingchilling.txt\n",
      "Ben/gooooog.csv\n",
      "Ben/parquetGoogleStock/da5315ad16f94e5488251de78076a594_000000_000000.snappy.parquet\n",
      "Ben/parquetGoogleStock/da5315ad16f94e5488251de78076a594_000001_000000.snappy.parquet\n",
      "Ben/parquetGoogleStock/da5315ad16f94e5488251de78076a594_000002_000000.snappy.parquet\n",
      "Ben/parquetGoogleStock/da5315ad16f94e5488251de78076a594_000003_000000.snappy.parquet\n",
      "Ben/parquetGoogleStock/da5315ad16f94e5488251de78076a594_000004_000000.snappy.parquet\n",
      "Ben/parquetGoogleStock/da5315ad16f94e5488251de78076a594_000005_000000.snappy.parquet\n",
      "Ben/parquetGoogleStock/da5315ad16f94e5488251de78076a594_000006_000000.snappy.parquet\n",
      "Ben/parquetGoogleStock/da5315ad16f94e5488251de78076a594_000007_000000.snappy.parquet\n",
      "Ben/parquetGoogleStock/da5315ad16f94e5488251de78076a594_000008_000000.snappy.parquet\n",
      "Ben/parquetGoogleStock/da5315ad16f94e5488251de78076a594_000009_000000.snappy.parquet\n",
      "Ben/parquetGoogleStock/da5315ad16f94e5488251de78076a594_000010_000000.snappy.parquet\n",
      "Ben/parquetGoogleStock/da5315ad16f94e5488251de78076a594_000011_000000.snappy.parquet\n",
      "Ben/parquetGoogleStock/da5315ad16f94e5488251de78076a594_000012_000000.snappy.parquet\n",
      "Ben/parquetGoogleStock/da5315ad16f94e5488251de78076a594_000013_000000.snappy.parquet\n",
      "Ben/parquetGoogleStock/da5315ad16f94e5488251de78076a594_000014_000000.snappy.parquet\n",
      "Ben/parquetGoogleStock/da5315ad16f94e5488251de78076a594_000015_000000.snappy.parquet\n",
      "Ben/parquetGoogleStock/da5315ad16f94e5488251de78076a594_000016_000000.snappy.parquet\n",
      "Ben/parquetGoogleStock/da5315ad16f94e5488251de78076a594_000017_000000.snappy.parquet\n",
      "Ben/parquetGoogleStock/da5315ad16f94e5488251de78076a594_000018_000000.snappy.parquet\n",
      "Ben/parquetGoogleStock/da5315ad16f94e5488251de78076a594_000019_000000.snappy.parquet\n",
      "Ben/parquetGoogleStock/da5315ad16f94e5488251de78076a594_000020_000000.snappy.parquet\n",
      "Ben/parquetGoogleStock/da5315ad16f94e5488251de78076a594_000021_000000.snappy.parquet\n",
      "Ben/parquetGoogleStock/da5315ad16f94e5488251de78076a594_000022_000000.snappy.parquet\n",
      "Ben/parquetGoogleStock/da5315ad16f94e5488251de78076a594_000023_000000.snappy.parquet\n",
      "Ben/parquetGoogleStock/da5315ad16f94e5488251de78076a594_000024_000000.snappy.parquet\n",
      "Ben/parquetGoogleStock/da5315ad16f94e5488251de78076a594_000025_000000.snappy.parquet\n",
      "Ben/parquetGoogleStock/da5315ad16f94e5488251de78076a594_000026_000000.snappy.parquet\n",
      "Ben/parquetGoogleStock/da5315ad16f94e5488251de78076a594_000027_000000.snappy.parquet\n",
      "Ben/parquetGoogleStock/da5315ad16f94e5488251de78076a594_000028_000000.snappy.parquet\n",
      "Ben/parquetGoogleStock/da5315ad16f94e5488251de78076a594_000029_000000.snappy.parquet\n",
      "Ben/parquetGoogleStock/da5315ad16f94e5488251de78076a594_000030_000000.snappy.parquet\n",
      "Ben/parquetGoogleStock/da5315ad16f94e5488251de78076a594_000031_000000.snappy.parquet\n",
      "Ben/uploads/Google_upload_test\n",
      "EMMA/test_export.parquet\n",
      "MELISSA/test_export.parquet\n",
      "MillionSongSubset/\n",
      "MillionSongSubset/log-data/2018-11-01-events.json\n",
      "MillionSongSubset/log-data/2018-11-02-events.json\n",
      "MillionSongSubset/log-data/2018-11-03-events.json\n",
      "MillionSongSubset/log-data/2018-11-04-events.json\n",
      "MillionSongSubset/log-data/2018-11-05-events.json\n",
      "MillionSongSubset/log-data/2018-11-06-events.json\n",
      "MillionSongSubset/log-data/2018-11-07-events.json\n",
      "MillionSongSubset/log-data/2018-11-08-events.json\n",
      "MillionSongSubset/log-data/2018-11-09-events.json\n",
      "MillionSongSubset/log-data/2018-11-10-events.json\n",
      "MillionSongSubset/log-data/2018-11-11-events.json\n",
      "MillionSongSubset/log-data/2018-11-12-events.json\n",
      "MillionSongSubset/log-data/2018-11-13-events.json\n",
      "MillionSongSubset/log-data/2018-11-14-events.json\n",
      "MillionSongSubset/log-data/2018-11-15-events.json\n",
      "MillionSongSubset/log-data/2018-11-16-events.json\n",
      "MillionSongSubset/log-data/2018-11-17-events.json\n",
      "MillionSongSubset/log-data/2018-11-18-events.json\n",
      "MillionSongSubset/log-data/2018-11-19-events.json\n",
      "MillionSongSubset/log-data/2018-11-20-events.json\n",
      "MillionSongSubset/log-data/2018-11-21-events.json\n",
      "MillionSongSubset/log-data/2018-11-22-events.json\n",
      "MillionSongSubset/log-data/2018-11-23-events.json\n",
      "MillionSongSubset/log-data/2018-11-24-events.json\n",
      "MillionSongSubset/log-data/2018-11-25-events.json\n",
      "MillionSongSubset/log-data/2018-11-26-events.json\n",
      "MillionSongSubset/log-data/2018-11-27-events.json\n",
      "MillionSongSubset/log-data/2018-11-28-events.json\n",
      "MillionSongSubset/log-data/2018-11-29-events.json\n",
      "MillionSongSubset/log-data/2018-11-30-events.json\n",
      "MillionSongSubset/song_data/A/A/A/TRAAAAW128F429D538.json\n",
      "MillionSongSubset/song_data/A/A/A/TRAAABD128F429CF47.json\n",
      "MillionSongSubset/song_data/A/A/A/TRAAADZ128F9348C2E.json\n",
      "MillionSongSubset/song_data/A/A/A/TRAAAEF128F4273421.json\n",
      "MillionSongSubset/song_data/A/A/A/TRAAAFD128F92F423A.json\n",
      "MillionSongSubset/song_data/A/A/A/TRAAAMO128F1481E7F.json\n",
      "MillionSongSubset/song_data/A/A/A/TRAAAMQ128F1460CD3.json\n",
      "MillionSongSubset/song_data/A/A/A/TRAAAPK128E0786D96.json\n",
      "MillionSongSubset/song_data/A/A/A/TRAAARJ128F9320760.json\n",
      "MillionSongSubset/song_data/A/A/A/TRAAAVG12903CFA543.json\n",
      "MillionSongSubset/song_data/A/A/A/TRAAAVO128F93133D4.json\n",
      "MillionSongSubset/song_data/A/A/B/TRAABCL128F4286650.json\n",
      "MillionSongSubset/song_data/A/A/B/TRAABDL12903CAABBA.json\n",
      "MillionSongSubset/song_data/A/A/B/TRAABJL12903CDCF1A.json\n",
      "MillionSongSubset/song_data/A/A/B/TRAABJV128F1460C49.json\n",
      "MillionSongSubset/song_data/A/A/B/TRAABLR128F423B7E3.json\n",
      "MillionSongSubset/song_data/A/A/B/TRAABNV128F425CEE1.json\n",
      "MillionSongSubset/song_data/A/A/B/TRAABRB128F9306DD5.json\n",
      "MillionSongSubset/song_data/A/A/B/TRAABVM128F92CA9DC.json\n",
      "MillionSongSubset/song_data/A/A/B/TRAABXG128F9318EBD.json\n",
      "MillionSongSubset/song_data/A/A/B/TRAABYN12903CFD305.json\n",
      "MillionSongSubset/song_data/A/A/B/TRAABYW128F4244559.json\n",
      "MillionSongSubset/song_data/A/A/C/TRAACCG128F92E8A55.json\n",
      "MillionSongSubset/song_data/A/A/C/TRAACER128F4290F96.json\n",
      "MillionSongSubset/song_data/A/A/C/TRAACFV128F935E50B.json\n",
      "MillionSongSubset/song_data/A/A/C/TRAACHN128F1489601.json\n",
      "MillionSongSubset/song_data/A/A/C/TRAACIW12903CC0F6D.json\n",
      "MillionSongSubset/song_data/A/A/C/TRAACLV128F427E123.json\n",
      "MillionSongSubset/song_data/A/A/C/TRAACNS128F14A2DF5.json\n",
      "MillionSongSubset/song_data/A/A/C/TRAACOW128F933E35F.json\n",
      "MillionSongSubset/song_data/A/A/C/TRAACPE128F421C1B9.json\n",
      "MillionSongSubset/song_data/A/A/C/TRAACQT128F9331780.json\n",
      "MillionSongSubset/song_data/A/A/C/TRAACSL128F93462F4.json\n",
      "MillionSongSubset/song_data/A/A/C/TRAACTB12903CAAF15.json\n",
      "MillionSongSubset/song_data/A/A/C/TRAACVS128E078BE39.json\n",
      "MillionSongSubset/song_data/A/A/C/TRAACZK128F4243829.json\n",
      "MillionSongSubset/song_data/A/B/A/TRABACN128F425B784.json\n",
      "MillionSongSubset/song_data/A/B/A/TRABAFJ128F42AF24E.json\n",
      "MillionSongSubset/song_data/A/B/A/TRABAFP128F931E9A1.json\n",
      "MillionSongSubset/song_data/A/B/A/TRABAIO128F42938F9.json\n",
      "MillionSongSubset/song_data/A/B/A/TRABATO128F42627E9.json\n",
      "MillionSongSubset/song_data/A/B/A/TRABAVQ12903CBF7E0.json\n",
      "MillionSongSubset/song_data/A/B/A/TRABAWW128F4250A31.json\n",
      "MillionSongSubset/song_data/A/B/A/TRABAXL128F424FC50.json\n",
      "MillionSongSubset/song_data/A/B/A/TRABAXR128F426515F.json\n",
      "MillionSongSubset/song_data/A/B/A/TRABAXV128F92F6AE3.json\n",
      "MillionSongSubset/song_data/A/B/A/TRABAZH128F930419A.json\n",
      "MillionSongSubset/song_data/A/B/B/TRABBAM128F429D223.json\n",
      "MillionSongSubset/song_data/A/B/B/TRABBBV128F42967D7.json\n",
      "MillionSongSubset/song_data/A/B/B/TRABBJE12903CDB442.json\n",
      "MillionSongSubset/song_data/A/B/B/TRABBKX128F4285205.json\n",
      "MillionSongSubset/song_data/A/B/B/TRABBLU128F93349CF.json\n",
      "MillionSongSubset/song_data/A/B/B/TRABBNP128F932546F.json\n",
      "MillionSongSubset/song_data/A/B/B/TRABBOP128F931B50D.json\n",
      "MillionSongSubset/song_data/A/B/B/TRABBOR128F4286200.json\n",
      "MillionSongSubset/song_data/A/B/B/TRABBTA128F933D304.json\n",
      "MillionSongSubset/song_data/A/B/B/TRABBVJ128F92F7EAA.json\n",
      "MillionSongSubset/song_data/A/B/B/TRABBXU128F92FEF48.json\n",
      "MillionSongSubset/song_data/A/B/B/TRABBZN12903CD9297.json\n",
      "MillionSongSubset/song_data/A/B/C/TRABCAJ12903CDFCC2.json\n",
      "MillionSongSubset/song_data/A/B/C/TRABCEC128F426456E.json\n",
      "MillionSongSubset/song_data/A/B/C/TRABCEI128F424C983.json\n",
      "MillionSongSubset/song_data/A/B/C/TRABCFL128F149BB0D.json\n",
      "MillionSongSubset/song_data/A/B/C/TRABCIX128F4265903.json\n",
      "MillionSongSubset/song_data/A/B/C/TRABCKL128F423A778.json\n",
      "MillionSongSubset/song_data/A/B/C/TRABCPZ128F4275C32.json\n",
      "MillionSongSubset/song_data/A/B/C/TRABCRU128F423F449.json\n",
      "MillionSongSubset/song_data/A/B/C/TRABCTK128F934B224.json\n",
      "MillionSongSubset/song_data/A/B/C/TRABCUQ128E0783E2B.json\n",
      "MillionSongSubset/song_data/A/B/C/TRABCXB128F4286BD3.json\n",
      "MillionSongSubset/song_data/A/B/C/TRABCYE128F934CE1D.json\n",
      "YOURNAME/test_export.parquet\n",
      "accidents/\n",
      "accidents/accidents_2017_to_2023_english.csv\n",
      "alexia/test_export.parquet\n",
      "emma/c20bdb605ad448f1ba9ced9f9f4ea51a_000000_000000.snappy.parquet\n",
      "emma/c20bdb605ad448f1ba9ced9f9f4ea51a_000001_000000.snappy.parquet\n",
      "emma/c20bdb605ad448f1ba9ced9f9f4ea51a_000002_000000.snappy.parquet\n",
      "emma/c20bdb605ad448f1ba9ced9f9f4ea51a_000003_000000.snappy.parquet\n",
      "fabiola/fabiola_GOOG.csv\n",
      "fabiola/in_memory_file.txt\n",
      "fabiola/test_export.parquet\n",
      "jaden/6e08eee074434aa7abda59ab22bc3ea7.snappy.parquet\n",
      "jaden/uploads/new_file.csv\n",
      "michael/e798e42882254cf5a9e99351bd7626d6.snappy.parquet\n",
      "miraj/test_export.parquet\n",
      "shaswat/\n",
      "shaswat/GOOG_NEW.csv\n",
      "shaswat/new_file.txt\n",
      "stage/\n",
      "stage/yellow_tripdata.csv\n",
      "stage/yellow_tripdata.json\n",
      "stage/yellow_tripdata.parquet\n",
      "stocks/\n",
      "stocks/GOOG.csv\n",
      "suchitha/GOOG.csv.csv\n",
      "suchitha/test_export.parquet\n",
      "tatwan/51addc9167684aa281c96fd5ae2d5be2.snappy.parquet\n",
      "tatwan/GOOG.csv\n",
      "tatwan/GOOG_NEW.csv\n",
      "tatwan/buffer.txt\n",
      "tyler/test_export.parquet\n",
      "yellow_tripdata_2024-01.parquet\n",
      "yellow_tripdata_2024-02.parquet\n",
      "yellow_tripdata_2024-03.parquet\n",
      "yellow_tripdata_2024-04.parquet\n"
     ]
    }
   ],
   "source": [
    "# list objects in a specific bucket \"techcatalyst-raw\" \n",
    "bucket_name = 'techcatalyst-raw'\n",
    "objects = s3_client.list_objects_v2(Bucket=bucket_name)\n",
    "for obj in objects.get('Contents', []):\n",
    "    print(obj['Key'])"
   ]
  },
  {
   "cell_type": "code",
   "execution_count": 8,
   "id": "e99d870b-1b57-4199-82b9-196c691987d7",
   "metadata": {},
   "outputs": [
    {
     "name": "stdout",
     "output_type": "stream",
     "text": [
      "BLAKE/upload_file_method_GOOG.csv\n",
      "Ben/gooooog.csv\n",
      "accidents/accidents_2017_to_2023_english.csv\n",
      "fabiola/fabiola_GOOG.csv\n",
      "jaden/uploads/new_file.csv\n",
      "shaswat/GOOG_NEW.csv\n",
      "stage/yellow_tripdata.csv\n",
      "stocks/GOOG.csv\n",
      "suchitha/GOOG.csv.csv\n",
      "tatwan/GOOG.csv\n",
      "tatwan/GOOG_NEW.csv\n"
     ]
    }
   ],
   "source": [
    "# list objects that are CSV in a specific bucket \"techcatalyst-raw\" \n",
    "for obj in objects.get('Contents', []):\n",
    "    if obj['Key'].endswith('csv'):\n",
    "        print(obj['Key'])"
   ]
  },
  {
   "cell_type": "code",
   "execution_count": 10,
   "id": "58451829-a1a6-4f4a-8c65-d706af6bf6f2",
   "metadata": {},
   "outputs": [],
   "source": [
    "s3_client.download_file(Bucket='techcatalyst-raw',  # from which bucket\n",
    "                        Key='stocks/GOOG.csv', # what is the object name, this include the directory/key.csv\n",
    "                        Filename='GOOG.csv') # Filename is what you want to call it once it is downloaded"
   ]
  },
  {
   "cell_type": "code",
   "execution_count": 14,
   "id": "6fcd77c1-bbe9-4ed0-b9cb-b44cb3ee1e5b",
   "metadata": {},
   "outputs": [],
   "source": [
    "import io\n",
    "io_temp = io.BytesIO()\n",
    "temp = s3_client.download_fileobj(Bucket='techcatalyst-raw', \n",
    "                           \t\t\tKey='stocks/GOOG.csv',\n",
    "                            \t\tFileobj=io_temp) # pass the io.BytesIO object"
   ]
  },
  {
   "cell_type": "code",
   "execution_count": 15,
   "id": "c0432a2c-a8fb-4270-91d2-9b155a8ee394",
   "metadata": {},
   "outputs": [
    {
     "name": "stdout",
     "output_type": "stream",
     "text": [
      "b'Date,Open,High,Low,Close,Volume\\r\\n1/2/2025 16:00:00,191.49,193.2,188.71,190.63,17545162\\r\\n1/3/2025 16:'\n"
     ]
    }
   ],
   "source": [
    "# show buffer content\n",
    "print(io_temp.getvalue()[:100])"
   ]
  },
  {
   "cell_type": "code",
   "execution_count": 18,
   "id": "e015365a-25fc-4ee3-b7b5-1f194f653838",
   "metadata": {},
   "outputs": [
    {
     "data": {
      "text/plain": [
       "0"
      ]
     },
     "execution_count": 18,
     "metadata": {},
     "output_type": "execute_result"
    }
   ],
   "source": [
    "io_temp.seek(0) "
   ]
  },
  {
   "cell_type": "code",
   "execution_count": 19,
   "id": "985ebb16-41ff-4cbf-8e51-7842026c7f83",
   "metadata": {},
   "outputs": [],
   "source": [
    "# writing the content of the BytesIO object to a file \n",
    "with open('google_stock_downloaded.csv', 'wb') as f:\n",
    "    f.write(io_temp.getvalue())"
   ]
  },
  {
   "cell_type": "code",
   "execution_count": 20,
   "id": "336c4526-6926-405a-bd2f-c4a61d174ed4",
   "metadata": {},
   "outputs": [],
   "source": [
    "# uploading a local file using upload_file\n",
    "s3_client.upload_file(Filename='GOOG.csv', # local file name\n",
    "                      Bucket='techcatalyst-raw', # the bucket target\n",
    "                      Key='aamnah/GOOG.csv') # destination name, make sure it include YOURNAME/ANY_FILE_NAME.csv"
   ]
  },
  {
   "cell_type": "code",
   "execution_count": 21,
   "id": "06b2866d-f12f-44a0-a9c5-69584ff6bdf5",
   "metadata": {},
   "outputs": [],
   "source": [
    "in_memory_file = io.BytesIO(b\"YOUR TEXT HERE. WRITE ANY TEXT YOU WANT\")\n",
    "s3_client.upload_fileobj(Fileobj=io_temp,\n",
    "                          Bucket='techcatalyst-raw', \n",
    "                          Key='aamnah/GOOG.txt') # destination name, make sure it include YOURNAME/ANY_FILE_NAME.txt"
   ]
  },
  {
   "cell_type": "code",
   "execution_count": null,
   "id": "77271303-e870-447f-a85d-3f136bbc88d9",
   "metadata": {},
   "outputs": [
    {
     "name": "stdout",
     "output_type": "stream",
     "text": [
      "aamnah/GOOG.csv\n",
      "aamnah/GOOG.txt\n"
     ]
    }
   ],
   "source": [
    "# list objects in a specific bucket \"techcatalyst-raw\" with prefix \"aamnah\"\n",
    "objects = s3_client.list_objects_v2(Bucket='techcatalyst-raw', Prefix='aamnah')\n",
    "for obj in objects.get('Contents', []):\n",
    "    print(obj['Key'])"
   ]
  }
 ],
 "metadata": {
  "kernelspec": {
   "display_name": "Python 3 (ipykernel)",
   "language": "python",
   "name": "python3"
  },
  "language_info": {
   "codemirror_mode": {
    "name": "ipython",
    "version": 3
   },
   "file_extension": ".py",
   "mimetype": "text/x-python",
   "name": "python",
   "nbconvert_exporter": "python",
   "pygments_lexer": "ipython3",
   "version": "3.12.1"
  }
 },
 "nbformat": 4,
 "nbformat_minor": 5
}
